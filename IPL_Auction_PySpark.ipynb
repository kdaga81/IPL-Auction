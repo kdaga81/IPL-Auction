{
  "nbformat": 4,
  "nbformat_minor": 0,
  "metadata": {
    "colab": {
      "provenance": []
    },
    "kernelspec": {
      "name": "python3",
      "display_name": "Python 3"
    },
    "language_info": {
      "name": "python"
    }
  },
  "cells": [
    {
      "cell_type": "code",
      "execution_count": 1,
      "metadata": {
        "colab": {
          "base_uri": "https://localhost:8080/"
        },
        "id": "Asj-_Q4VmyHS",
        "outputId": "ee0600d0-a54a-4ef5-8371-fbee78b18032"
      },
      "outputs": [
        {
          "output_type": "stream",
          "name": "stdout",
          "text": [
            "Collecting pyspark\n",
            "  Downloading pyspark-3.5.1.tar.gz (317.0 MB)\n",
            "\u001b[2K     \u001b[90m━━━━━━━━━━━━━━━━━━━━━━━━━━━━━━━━━━━━━━━━\u001b[0m \u001b[32m317.0/317.0 MB\u001b[0m \u001b[31m3.8 MB/s\u001b[0m eta \u001b[36m0:00:00\u001b[0m\n",
            "\u001b[?25h  Preparing metadata (setup.py) ... \u001b[?25l\u001b[?25hdone\n",
            "Requirement already satisfied: py4j==0.10.9.7 in /usr/local/lib/python3.10/dist-packages (from pyspark) (0.10.9.7)\n",
            "Building wheels for collected packages: pyspark\n",
            "  Building wheel for pyspark (setup.py) ... \u001b[?25l\u001b[?25hdone\n",
            "  Created wheel for pyspark: filename=pyspark-3.5.1-py2.py3-none-any.whl size=317488491 sha256=2a3dbe843096e878f97449039dc7cdd77cac390b30429b9c637c6721f1d88d37\n",
            "  Stored in directory: /root/.cache/pip/wheels/80/1d/60/2c256ed38dddce2fdd93be545214a63e02fbd8d74fb0b7f3a6\n",
            "Successfully built pyspark\n",
            "Installing collected packages: pyspark\n",
            "Successfully installed pyspark-3.5.1\n"
          ]
        }
      ],
      "source": [
        "!pip install pyspark"
      ]
    },
    {
      "cell_type": "code",
      "source": [
        "import pandas as pd\n",
        "\n",
        "from pyspark.sql import SparkSession\n",
        "\n",
        "from pyspark.sql import *\n"
      ],
      "metadata": {
        "id": "f4czU7vtm2wY"
      },
      "execution_count": 2,
      "outputs": []
    },
    {
      "cell_type": "code",
      "source": [
        "spark = SparkSession.builder.getOrCreate()"
      ],
      "metadata": {
        "id": "9KJa2LytnppP"
      },
      "execution_count": 3,
      "outputs": []
    },
    {
      "cell_type": "code",
      "source": [
        "!git clone https://github.com/kdaga81/IPL-Auction.git"
      ],
      "metadata": {
        "colab": {
          "base_uri": "https://localhost:8080/"
        },
        "id": "4yWTP4y7nsBJ",
        "outputId": "4c970b2b-0b44-4dfc-d743-7fd73a381cf5"
      },
      "execution_count": 4,
      "outputs": [
        {
          "output_type": "stream",
          "name": "stdout",
          "text": [
            "Cloning into 'IPL-Auction'...\n",
            "remote: Enumerating objects: 3, done.\u001b[K\n",
            "remote: Counting objects: 100% (3/3), done.\u001b[K\n",
            "remote: Compressing objects: 100% (2/2), done.\u001b[K\n",
            "remote: Total 3 (delta 0), reused 0 (delta 0), pack-reused 0\u001b[K\n",
            "Receiving objects: 100% (3/3), 9.90 KiB | 2.48 MiB/s, done.\n"
          ]
        }
      ]
    },
    {
      "cell_type": "code",
      "source": [
        "from pyspark.sql.types import StructType, IntegerType, StringType, FloatType\n"
      ],
      "metadata": {
        "id": "oRvxuAcioM0T"
      },
      "execution_count": 8,
      "outputs": []
    },
    {
      "cell_type": "code",
      "source": [
        "schema = StructType() \\\n",
        "        .add(\"c0_\",IntegerType(),True) \\\n",
        "        .add(\"Player\", StringType(),True) \\\n",
        "        .add(\"Base Price\",StringType(), True) \\\n",
        "        .add(\"TYPE\",StringType(),True) \\\n",
        "        .add(\"COST IN ₹ (CR.)\",FloatType(),True) \\\n",
        "        .add(\"Cost IN $ (000)\",FloatType(),True) \\\n",
        "        .add(\"2021 Squad\", StringType(),True) \\\n",
        "        .add(\"Team\", StringType(),True)"
      ],
      "metadata": {
        "id": "94D8-gs1n-1q"
      },
      "execution_count": 9,
      "outputs": []
    },
    {
      "cell_type": "code",
      "source": [
        "df = spark.read.option(\"header\", True).option('inferSchema',True).csv(\"/content/IPL-Auction/ipl_2022_dataset.csv\")"
      ],
      "metadata": {
        "id": "OcvOql_UoDnY"
      },
      "execution_count": 10,
      "outputs": []
    },
    {
      "cell_type": "code",
      "source": [
        "df.show(5)"
      ],
      "metadata": {
        "colab": {
          "base_uri": "https://localhost:8080/"
        },
        "id": "oKhQbrs-oTYz",
        "outputId": "53e05544-a049-43db-b617-fc095597d69f"
      },
      "execution_count": 11,
      "outputs": [
        {
          "output_type": "stream",
          "name": "stdout",
          "text": [
            "+---+---------------+----------+-----------+---------------+---------------+----------+--------------+\n",
            "|_c0|         Player|Base Price|       TYPE|COST IN ₹ (CR.)|Cost IN $ (000)|2021 Squad|          Team|\n",
            "+---+---------------+----------+-----------+---------------+---------------+----------+--------------+\n",
            "|  0|    Rashid Khan|Draft Pick|     BOWLER|           15.0|         1950.0|       SRH|Gujarat Titans|\n",
            "|  1|  Hardik Pandya|Draft Pick|ALL-ROUNDER|           15.0|         1950.0|        MI|Gujarat Titans|\n",
            "|  2|Lockie Ferguson|      2 Cr|     BOWLER|           10.0|         1300.0|       KKR|Gujarat Titans|\n",
            "|  3|  Rahul Tewatia|   40 Lakh|ALL-ROUNDER|            9.0|         1170.0|        RR|Gujarat Titans|\n",
            "|  4|   Shubman Gill|Draft Pick|     BATTER|            8.0|         1040.0|       KKR|Gujarat Titans|\n",
            "+---+---------------+----------+-----------+---------------+---------------+----------+--------------+\n",
            "only showing top 5 rows\n",
            "\n"
          ]
        }
      ]
    },
    {
      "cell_type": "code",
      "source": [
        "df.printSchema()"
      ],
      "metadata": {
        "colab": {
          "base_uri": "https://localhost:8080/"
        },
        "id": "Xqy8NjAAoYMi",
        "outputId": "c193fe24-a428-4403-a190-7748045d3756"
      },
      "execution_count": 12,
      "outputs": [
        {
          "output_type": "stream",
          "name": "stdout",
          "text": [
            "root\n",
            " |-- _c0: integer (nullable = true)\n",
            " |-- Player: string (nullable = true)\n",
            " |-- Base Price: string (nullable = true)\n",
            " |-- TYPE: string (nullable = true)\n",
            " |-- COST IN ₹ (CR.): double (nullable = true)\n",
            " |-- Cost IN $ (000): double (nullable = true)\n",
            " |-- 2021 Squad: string (nullable = true)\n",
            " |-- Team: string (nullable = true)\n",
            "\n"
          ]
        }
      ]
    },
    {
      "cell_type": "code",
      "source": [
        "print('Rows: ', df.count())\n",
        "\n",
        "print('Columns:', len(df.columns))"
      ],
      "metadata": {
        "colab": {
          "base_uri": "https://localhost:8080/"
        },
        "id": "sQQw3lGCobDu",
        "outputId": "7137e955-ac49-4ade-cccd-e06df119f177"
      },
      "execution_count": 13,
      "outputs": [
        {
          "output_type": "stream",
          "name": "stdout",
          "text": [
            "Rows:  633\n",
            "Columns: 8\n"
          ]
        }
      ]
    },
    {
      "cell_type": "code",
      "source": [
        "df.printSchema()"
      ],
      "metadata": {
        "colab": {
          "base_uri": "https://localhost:8080/"
        },
        "id": "pe-xSfI5oeYy",
        "outputId": "be3c8277-ebb1-45a2-cd1f-33d67d31e03e"
      },
      "execution_count": 14,
      "outputs": [
        {
          "output_type": "stream",
          "name": "stdout",
          "text": [
            "root\n",
            " |-- _c0: integer (nullable = true)\n",
            " |-- Player: string (nullable = true)\n",
            " |-- Base Price: string (nullable = true)\n",
            " |-- TYPE: string (nullable = true)\n",
            " |-- COST IN ₹ (CR.): double (nullable = true)\n",
            " |-- Cost IN $ (000): double (nullable = true)\n",
            " |-- 2021 Squad: string (nullable = true)\n",
            " |-- Team: string (nullable = true)\n",
            "\n"
          ]
        }
      ]
    },
    {
      "cell_type": "code",
      "source": [
        "df.select('Base Price').distinct().collect()"
      ],
      "metadata": {
        "colab": {
          "base_uri": "https://localhost:8080/"
        },
        "id": "mHo94TzKoimC",
        "outputId": "9545489b-ae42-4767-8117-44d217d1265c"
      },
      "execution_count": 15,
      "outputs": [
        {
          "output_type": "execute_result",
          "data": {
            "text/plain": [
              "[Row(Base Price='20 Lakh'),\n",
              " Row(Base Price='2 Cr'),\n",
              " Row(Base Price='Draft Pick'),\n",
              " Row(Base Price='40 Lakh'),\n",
              " Row(Base Price='30 Lakh'),\n",
              " Row(Base Price='1 Cr'),\n",
              " Row(Base Price='50 Lakh'),\n",
              " Row(Base Price='1.5 Cr'),\n",
              " Row(Base Price='75 Lakh'),\n",
              " Row(Base Price='Retained')]"
            ]
          },
          "metadata": {},
          "execution_count": 15
        }
      ]
    },
    {
      "cell_type": "code",
      "source": [
        "df.groupBy('Base Price').count().show()"
      ],
      "metadata": {
        "colab": {
          "base_uri": "https://localhost:8080/"
        },
        "id": "zfm8U9GUolzY",
        "outputId": "fe0b20b8-edc2-4878-8a80-1bcc0dcbcd42"
      },
      "execution_count": 16,
      "outputs": [
        {
          "output_type": "stream",
          "name": "stdout",
          "text": [
            "+----------+-----+\n",
            "|Base Price|count|\n",
            "+----------+-----+\n",
            "|   20 Lakh|  344|\n",
            "|      2 Cr|   48|\n",
            "|Draft Pick|    6|\n",
            "|   40 Lakh|   16|\n",
            "|   30 Lakh|    9|\n",
            "|      1 Cr|   33|\n",
            "|   50 Lakh|  104|\n",
            "|    1.5 Cr|   20|\n",
            "|   75 Lakh|   26|\n",
            "|  Retained|   27|\n",
            "+----------+-----+\n",
            "\n"
          ]
        }
      ]
    },
    {
      "cell_type": "code",
      "source": [
        "df2 = df.withColumnRenamed(\"Player\",\"player\")\\\n",
        "      .withColumnRenamed(\"Base Price\",\"base_price\")\\\n",
        "      .withColumnRenamed(\"Type\",\"type\") \\\n",
        "      .withColumnRenamed(\"COST IN ₹ (CR.)\",\"cost_inr\") \\\n",
        "      .withColumnRenamed(\"Cost IN $ (000)\",\"cost_usd\") \\\n",
        "      .withColumnRenamed(\"2021 Squad\",\"2021_team\") \\\n",
        "      .withColumnRenamed(\"Team\",\"2022_team\")"
      ],
      "metadata": {
        "id": "qtDTrOfCoo63"
      },
      "execution_count": 17,
      "outputs": []
    },
    {
      "cell_type": "code",
      "source": [
        "df.show(5)"
      ],
      "metadata": {
        "colab": {
          "base_uri": "https://localhost:8080/"
        },
        "id": "5PeZ3pGAow5I",
        "outputId": "f861b290-cae8-4c51-be03-970b56751e8e"
      },
      "execution_count": 19,
      "outputs": [
        {
          "output_type": "stream",
          "name": "stdout",
          "text": [
            "+---+---------------+----------+-----------+---------------+---------------+----------+--------------+\n",
            "|_c0|         Player|Base Price|       TYPE|COST IN ₹ (CR.)|Cost IN $ (000)|2021 Squad|          Team|\n",
            "+---+---------------+----------+-----------+---------------+---------------+----------+--------------+\n",
            "|  0|    Rashid Khan|Draft Pick|     BOWLER|           15.0|         1950.0|       SRH|Gujarat Titans|\n",
            "|  1|  Hardik Pandya|Draft Pick|ALL-ROUNDER|           15.0|         1950.0|        MI|Gujarat Titans|\n",
            "|  2|Lockie Ferguson|      2 Cr|     BOWLER|           10.0|         1300.0|       KKR|Gujarat Titans|\n",
            "|  3|  Rahul Tewatia|   40 Lakh|ALL-ROUNDER|            9.0|         1170.0|        RR|Gujarat Titans|\n",
            "|  4|   Shubman Gill|Draft Pick|     BATTER|            8.0|         1040.0|       KKR|Gujarat Titans|\n",
            "+---+---------------+----------+-----------+---------------+---------------+----------+--------------+\n",
            "only showing top 5 rows\n",
            "\n"
          ]
        }
      ]
    },
    {
      "cell_type": "code",
      "source": [
        "df2.show(5)"
      ],
      "metadata": {
        "colab": {
          "base_uri": "https://localhost:8080/"
        },
        "id": "yE7dY9GAotgO",
        "outputId": "dc475e1c-c102-403e-a635-c2a391ed72e8"
      },
      "execution_count": 18,
      "outputs": [
        {
          "output_type": "stream",
          "name": "stdout",
          "text": [
            "+---+---------------+----------+-----------+--------+--------+---------+--------------+\n",
            "|_c0|         player|base_price|       type|cost_inr|cost_usd|2021_team|     2022_team|\n",
            "+---+---------------+----------+-----------+--------+--------+---------+--------------+\n",
            "|  0|    Rashid Khan|Draft Pick|     BOWLER|    15.0|  1950.0|      SRH|Gujarat Titans|\n",
            "|  1|  Hardik Pandya|Draft Pick|ALL-ROUNDER|    15.0|  1950.0|       MI|Gujarat Titans|\n",
            "|  2|Lockie Ferguson|      2 Cr|     BOWLER|    10.0|  1300.0|      KKR|Gujarat Titans|\n",
            "|  3|  Rahul Tewatia|   40 Lakh|ALL-ROUNDER|     9.0|  1170.0|       RR|Gujarat Titans|\n",
            "|  4|   Shubman Gill|Draft Pick|     BATTER|     8.0|  1040.0|      KKR|Gujarat Titans|\n",
            "+---+---------------+----------+-----------+--------+--------+---------+--------------+\n",
            "only showing top 5 rows\n",
            "\n"
          ]
        }
      ]
    },
    {
      "cell_type": "code",
      "source": [
        "df3 = df2.drop('cost_usd')"
      ],
      "metadata": {
        "id": "Tb6q9zXtovg7"
      },
      "execution_count": 20,
      "outputs": []
    },
    {
      "cell_type": "code",
      "source": [
        "df3.show()"
      ],
      "metadata": {
        "colab": {
          "base_uri": "https://localhost:8080/"
        },
        "id": "uKf3mYo4o24M",
        "outputId": "9fd7da75-544a-4318-c1fd-9075ac9727fe"
      },
      "execution_count": 21,
      "outputs": [
        {
          "output_type": "stream",
          "name": "stdout",
          "text": [
            "+---+-------------------+----------+------------+--------+---------+--------------+\n",
            "|_c0|             player|base_price|        type|cost_inr|2021_team|     2022_team|\n",
            "+---+-------------------+----------+------------+--------+---------+--------------+\n",
            "|  0|        Rashid Khan|Draft Pick|      BOWLER|    15.0|      SRH|Gujarat Titans|\n",
            "|  1|      Hardik Pandya|Draft Pick| ALL-ROUNDER|    15.0|       MI|Gujarat Titans|\n",
            "|  2|    Lockie Ferguson|      2 Cr|      BOWLER|    10.0|      KKR|Gujarat Titans|\n",
            "|  3|      Rahul Tewatia|   40 Lakh| ALL-ROUNDER|     9.0|       RR|Gujarat Titans|\n",
            "|  4|       Shubman Gill|Draft Pick|      BATTER|     8.0|      KKR|Gujarat Titans|\n",
            "|  5|     Mohammad Shami|      2 Cr|      BOWLER|    6.25|     PBKS|Gujarat Titans|\n",
            "|  6|         Yash Dayal|   20 Lakh|      BOWLER|     3.2|     NULL|Gujarat Titans|\n",
            "|  7|       David Miller|      1 Cr|      BATTER|     3.0|       RR|Gujarat Titans|\n",
            "|  8|     R. Sai Kishore|   20 Lakh|      BOWLER|     3.0|      CSK|Gujarat Titans|\n",
            "|  9|Abhinav Sadarangani|   20 Lakh|      BATTER|     2.6|     NULL|Gujarat Titans|\n",
            "| 10|       Matthew Wade|      2 Cr|WICKETKEEPER|     2.4|     NULL|Gujarat Titans|\n",
            "| 11|     Alzarri Joseph|   75 Lakh|      BOWLER|     2.4|     NULL|Gujarat Titans|\n",
            "| 12|          Jason Roy|      2 Cr|      BATTER|     2.0|      SRH|Gujarat Titans|\n",
            "| 13|    Wriddhiman Saha|      1 Cr|WICKETKEEPER|     1.9|      SRH|Gujarat Titans|\n",
            "| 14|       Jayant Yadav|      1 Cr| ALL-ROUNDER|     1.7|       MI|Gujarat Titans|\n",
            "| 15|      Vijay Shankar|   50 Lakh| ALL-ROUNDER|     1.4|      SRH|Gujarat Titans|\n",
            "| 16|     Dominic Drakes|   75 Lakh| ALL-ROUNDER|     1.1|      CSK|Gujarat Titans|\n",
            "| 17|        Varun Aaron|   50 Lakh|      BOWLER|     0.5|     NULL|Gujarat Titans|\n",
            "| 18|    Gurkeerat Singh|   50 Lakh| ALL-ROUNDER|     0.5|      KKR|Gujarat Titans|\n",
            "| 19|         Noor Ahmad|   30 Lakh|      BOWLER|     0.3|     NULL|Gujarat Titans|\n",
            "+---+-------------------+----------+------------+--------+---------+--------------+\n",
            "only showing top 20 rows\n",
            "\n"
          ]
        }
      ]
    },
    {
      "cell_type": "code",
      "source": [
        "df3.select('player','cost_inr').where(df3.type=='BATTER').orderBy('cost_inr', ascending=False).show(3)"
      ],
      "metadata": {
        "colab": {
          "base_uri": "https://localhost:8080/"
        },
        "id": "v_Tz1Ik1o49x",
        "outputId": "41c13c8c-81f0-41d5-f1e0-46bd906bc0db"
      },
      "execution_count": 22,
      "outputs": [
        {
          "output_type": "stream",
          "name": "stdout",
          "text": [
            "+---------------+--------+\n",
            "|         player|cost_inr|\n",
            "+---------------+--------+\n",
            "|   Rohit Sharma|    16.0|\n",
            "|    Virat Kohli|    15.0|\n",
            "|Kane Williamson|    14.0|\n",
            "+---------------+--------+\n",
            "only showing top 3 rows\n",
            "\n"
          ]
        }
      ]
    },
    {
      "cell_type": "code",
      "source": [
        "df3.createOrReplaceTempView('ipl')"
      ],
      "metadata": {
        "id": "ILUrd02No83k"
      },
      "execution_count": 23,
      "outputs": []
    },
    {
      "cell_type": "code",
      "source": [
        "spark.sql(\"\"\"SELECT player, cost_inr FROM ipl WHERE type = 'BATTER' ORDER BY 2 DESC LIMIT 5\"\"\").show()"
      ],
      "metadata": {
        "colab": {
          "base_uri": "https://localhost:8080/"
        },
        "id": "ROUAWODPo_GY",
        "outputId": "dc52c3eb-6489-4871-9e41-ccd61088d1f7"
      },
      "execution_count": 24,
      "outputs": [
        {
          "output_type": "stream",
          "name": "stdout",
          "text": [
            "+---------------+--------+\n",
            "|         player|cost_inr|\n",
            "+---------------+--------+\n",
            "|   Rohit Sharma|    16.0|\n",
            "|    Virat Kohli|    15.0|\n",
            "|Kane Williamson|    14.0|\n",
            "|   Shreyas Iyer|   12.25|\n",
            "| Mayank Agarwal|    12.0|\n",
            "+---------------+--------+\n",
            "\n"
          ]
        }
      ]
    },
    {
      "cell_type": "code",
      "source": [
        "df3.select('player','cost_inr').filter(df3.type=='BOWLER').orderBy('cost_inr',ascending=False).show(5)"
      ],
      "metadata": {
        "colab": {
          "base_uri": "https://localhost:8080/"
        },
        "id": "gdwzFGSupiqs",
        "outputId": "ddef37d4-d70e-4a54-914f-544d1af48cc9"
      },
      "execution_count": 25,
      "outputs": [
        {
          "output_type": "stream",
          "name": "stdout",
          "text": [
            "+---------------+--------+\n",
            "|         player|cost_inr|\n",
            "+---------------+--------+\n",
            "|    Rashid Khan|    15.0|\n",
            "|  Deepak Chahar|    14.0|\n",
            "| Jasprit Bumrah|    12.0|\n",
            "| Shardul Thakur|   10.75|\n",
            "|Lockie Ferguson|    10.0|\n",
            "+---------------+--------+\n",
            "only showing top 5 rows\n",
            "\n"
          ]
        }
      ]
    },
    {
      "cell_type": "code",
      "source": [
        "spark.sql(\"\"\"SELECT player, cost_inr FROM ipl WHERE type = 'BOWLER' ORDER By 2 DESC LIMIT 5 \"\"\").show()"
      ],
      "metadata": {
        "colab": {
          "base_uri": "https://localhost:8080/"
        },
        "id": "pfMGgTwMpleF",
        "outputId": "70599481-2cfa-49b8-ec84-d52f86df4635"
      },
      "execution_count": 26,
      "outputs": [
        {
          "output_type": "stream",
          "name": "stdout",
          "text": [
            "+--------------+--------+\n",
            "|        player|cost_inr|\n",
            "+--------------+--------+\n",
            "|   Rashid Khan|    15.0|\n",
            "| Deepak Chahar|    14.0|\n",
            "|Jasprit Bumrah|    12.0|\n",
            "|Shardul Thakur|   10.75|\n",
            "|    Avesh Khan|    10.0|\n",
            "+--------------+--------+\n",
            "\n"
          ]
        }
      ]
    },
    {
      "cell_type": "code",
      "source": [
        "df3.select('player', 'cost_inr').filter((df3.type=='WICKETKEEPER')&(df3.cost_inr.isNotNull())).orderBy('cost_inr',ascending=True).show(5)"
      ],
      "metadata": {
        "colab": {
          "base_uri": "https://localhost:8080/"
        },
        "id": "avPCVAulpoaB",
        "outputId": "73e54d6a-ea35-4f16-f91f-68ae07e4d943"
      },
      "execution_count": 27,
      "outputs": [
        {
          "output_type": "stream",
          "name": "stdout",
          "text": [
            "+---------------+--------+\n",
            "|         player|cost_inr|\n",
            "+---------------+--------+\n",
            "|  Jitesh Sharma|     0.2|\n",
            "|    Aryan Juyal|     0.2|\n",
            "|  N. Jagadeesan|     0.2|\n",
            "|Luvnith Sisodia|     0.2|\n",
            "| Baba Indrajith|     0.2|\n",
            "+---------------+--------+\n",
            "only showing top 5 rows\n",
            "\n"
          ]
        }
      ]
    },
    {
      "cell_type": "code",
      "source": [
        "spark.sql(\"\"\" SELECT player, cost_inr FROM ipl WHERE type = 'WICKETKEEPER' AND cost_inr is not null ORDER BY 2 LIMIT 5 \"\"\").show()"
      ],
      "metadata": {
        "colab": {
          "base_uri": "https://localhost:8080/"
        },
        "id": "RD8mCIKYprWn",
        "outputId": "fcc0b2f5-dc67-4ac0-e309-f48c5d0233d2"
      },
      "execution_count": 28,
      "outputs": [
        {
          "output_type": "stream",
          "name": "stdout",
          "text": [
            "+---------------+--------+\n",
            "|         player|cost_inr|\n",
            "+---------------+--------+\n",
            "|    Dhruv Jurel|     0.2|\n",
            "|  Jitesh Sharma|     0.2|\n",
            "|  N. Jagadeesan|     0.2|\n",
            "|    Aryan Juyal|     0.2|\n",
            "|Luvnith Sisodia|     0.2|\n",
            "+---------------+--------+\n",
            "\n"
          ]
        }
      ]
    },
    {
      "cell_type": "code",
      "source": [
        "from pyspark.sql import functions as F\n",
        "\n",
        "df3.groupBy('type').agg(F.round(F.mean('cost_inr'),2).alias('average_price')).show()"
      ],
      "metadata": {
        "colab": {
          "base_uri": "https://localhost:8080/"
        },
        "id": "aREldfRfpulX",
        "outputId": "1ea57911-2878-4f0c-8ff7-c51b2aed5342"
      },
      "execution_count": 29,
      "outputs": [
        {
          "output_type": "stream",
          "name": "stdout",
          "text": [
            "+------------+-------------+\n",
            "|        type|average_price|\n",
            "+------------+-------------+\n",
            "|WICKETKEEPER|         5.09|\n",
            "|      BOWLER|         3.07|\n",
            "| ALL-ROUNDER|         3.61|\n",
            "|      BATTER|         4.11|\n",
            "+------------+-------------+\n",
            "\n"
          ]
        }
      ]
    },
    {
      "cell_type": "code",
      "source": [
        "spark.sql(\"\"\"SELECT type, round(avg(cost_inr),2) average_price FROM ipl GROUP BY 1 ORDER BY 2 DESC\"\"\").show()"
      ],
      "metadata": {
        "colab": {
          "base_uri": "https://localhost:8080/"
        },
        "id": "NWOu6hQrpyZj",
        "outputId": "08901073-8d96-4dad-e847-f7ce460a4e6f"
      },
      "execution_count": 30,
      "outputs": [
        {
          "output_type": "stream",
          "name": "stdout",
          "text": [
            "+------------+-------------+\n",
            "|        type|average_price|\n",
            "+------------+-------------+\n",
            "|WICKETKEEPER|         5.09|\n",
            "|      BATTER|         4.11|\n",
            "| ALL-ROUNDER|         3.61|\n",
            "|      BOWLER|         3.07|\n",
            "+------------+-------------+\n",
            "\n"
          ]
        }
      ]
    },
    {
      "cell_type": "code",
      "source": [
        "df3.select('player','2021_team','cost_inr').where(df3.base_price=='Retained').orderBy('cost_inr',ascending=False).show(10)\n"
      ],
      "metadata": {
        "colab": {
          "base_uri": "https://localhost:8080/"
        },
        "id": "Z7xSNc1fp1Zp",
        "outputId": "d094471f-aec9-41c6-fe46-541c025ad095"
      },
      "execution_count": 32,
      "outputs": [
        {
          "output_type": "stream",
          "name": "stdout",
          "text": [
            "+---------------+---------+--------+\n",
            "|         player|2021_team|cost_inr|\n",
            "+---------------+---------+--------+\n",
            "|Ravindra Jadeja|      CSK|    16.0|\n",
            "|   Rishabh Pant|       DC|    16.0|\n",
            "|   Rohit Sharma|       MI|    16.0|\n",
            "|    Virat Kohli|      RCB|    15.0|\n",
            "|   Sanju Samson|       RR|    14.0|\n",
            "|Kane Williamson|      SRH|    14.0|\n",
            "|       MS Dhoni|      CSK|    12.0|\n",
            "|  Andre Russell|      KKR|    12.0|\n",
            "| Mayank Agarwal|     PBKS|    12.0|\n",
            "| Jasprit Bumrah|       MI|    12.0|\n",
            "+---------------+---------+--------+\n",
            "only showing top 10 rows\n",
            "\n"
          ]
        }
      ]
    },
    {
      "cell_type": "code",
      "source": [
        "spark.sql(\"\"\"SELECT player, cost_inr FROM ipl WHERE base_price =\"Retained\" ORDER BY 2 DESC LIMIT 5 \"\"\").show()"
      ],
      "metadata": {
        "colab": {
          "base_uri": "https://localhost:8080/"
        },
        "id": "D1ql_ekZp4uC",
        "outputId": "4ab7c17d-0281-47a1-ace9-1d57e0dfc01b"
      },
      "execution_count": 33,
      "outputs": [
        {
          "output_type": "stream",
          "name": "stdout",
          "text": [
            "+---------------+--------+\n",
            "|         player|cost_inr|\n",
            "+---------------+--------+\n",
            "|Ravindra Jadeja|    16.0|\n",
            "|   Rishabh Pant|    16.0|\n",
            "|   Rohit Sharma|    16.0|\n",
            "|    Virat Kohli|    15.0|\n",
            "|   Sanju Samson|    14.0|\n",
            "+---------------+--------+\n",
            "\n"
          ]
        }
      ]
    },
    {
      "cell_type": "code",
      "source": [],
      "metadata": {
        "id": "ZQGqyqnep-Zt"
      },
      "execution_count": null,
      "outputs": []
    }
  ]
}